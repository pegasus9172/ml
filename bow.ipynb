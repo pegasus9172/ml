{
 "cells": [
  {
   "cell_type": "code",
   "execution_count": null,
   "metadata": {},
   "outputs": [],
   "source": [
    "from sklearn.feature_extraction.text import CountVectorizer\n",
    "\n",
    "# Sample corpus\n",
    "corpus = [\n",
    "    \"This is the first document.\",\n",
    "    \"This document is the second document.\",\n",
    "    \"And this is the third one.\",\n",
    "    \"Is this the first document?\"\n",
    "]\n",
    "\n",
    "# Create an instance of CountVectorizer\n",
    "vectorizer = CountVectorizer()\n",
    "\n",
    "# Fit the vectorizer to the corpus\n",
    "vectorizer.fit(corpus)\n",
    "\n",
    "# Get the bag of words representation\n",
    "bag_of_words = vectorizer.transform(corpus)\n",
    "\n",
    "# Print the feature names\n",
    "print(\"Feature names:\", vectorizer.get_feature_names())\n",
    "\n",
    "# Print the bag of words matrix\n",
    "print(\"Bag of words matrix:\")\n",
    "print(bag_of_words.toarray())"
   ]
  }
 ],
 "metadata": {
  "language_info": {
   "name": "python"
  }
 },
 "nbformat": 4,
 "nbformat_minor": 2
}
